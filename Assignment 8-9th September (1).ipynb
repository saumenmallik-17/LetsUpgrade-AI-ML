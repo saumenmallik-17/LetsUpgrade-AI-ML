{
 "cells": [
  {
   "cell_type": "markdown",
   "metadata": {},
   "source": [
    "# The map() function executes a specified function for each item in an iterable. The item is sent to the function as a parameter.\n",
    "\n",
    "##### Syntax - map(function, iterables)"
   ]
  },
  {
   "cell_type": "code",
   "execution_count": 2,
   "metadata": {},
   "outputs": [
    {
     "name": "stdout",
     "output_type": "stream",
     "text": [
      "36\n"
     ]
    }
   ],
   "source": [
    "def sqr_root(x):\n",
    "    return x*x\n",
    "y=sqr_root(6)\n",
    "print(y)"
   ]
  },
  {
   "cell_type": "code",
   "execution_count": 4,
   "metadata": {},
   "outputs": [
    {
     "name": "stdout",
     "output_type": "stream",
     "text": [
      "<map object at 0x000001D1CB853710>\n",
      "<class 'map'>\n",
      "[16, 25, 36, 49]\n"
     ]
    }
   ],
   "source": [
    "def sqr_root(x):\n",
    "    return x*x\n",
    "y=map(sqr_root,[4,5,6,7])\n",
    "print(y)\n",
    "print(type(y))\n",
    "print(list(y))"
   ]
  },
  {
   "cell_type": "code",
   "execution_count": 9,
   "metadata": {},
   "outputs": [
    {
     "name": "stdout",
     "output_type": "stream",
     "text": [
      "[12, 10, 30]\n"
     ]
    }
   ],
   "source": [
    "def sqr_root(a,b):\n",
    "    return a*b\n",
    "y=map(sqr_root,[4,5,6],[3,2,5])\n",
    "print(list(y))"
   ]
  },
  {
   "cell_type": "code",
   "execution_count": 11,
   "metadata": {},
   "outputs": [
    {
     "name": "stdout",
     "output_type": "stream",
     "text": [
      "[0, 4, 10, 18]\n"
     ]
    }
   ],
   "source": [
    "def sqr_root(a,b):\n",
    "    return a*b\n",
    "print(list(map(sqr_root,[i for i in range(4)],[3,4,5,6])))"
   ]
  },
  {
   "cell_type": "markdown",
   "metadata": {},
   "source": [
    "## Lambda\n",
    "### This function is a small anonymous function\n",
    "### A lambda function can take any number arguments, but can only have a one expression in other word, it's a single line function\n",
    "##### Syntax - lambda arguments : expression"
   ]
  },
  {
   "cell_type": "code",
   "execution_count": 13,
   "metadata": {},
   "outputs": [
    {
     "name": "stdout",
     "output_type": "stream",
     "text": [
      "27\n"
     ]
    }
   ],
   "source": [
    "x= lambda a: a*a*a\n",
    "print(x(3))"
   ]
  },
  {
   "cell_type": "code",
   "execution_count": 17,
   "metadata": {},
   "outputs": [
    {
     "name": "stdout",
     "output_type": "stream",
     "text": [
      "<function sqr_root.<locals>.<lambda> at 0x000001D1CB85B620>\n",
      "16\n"
     ]
    }
   ],
   "source": [
    "def sqr_root(x):\n",
    "    return lambda a:x*x\n",
    "b= sqr_root(4)\n",
    "print(b)\n",
    "print(b(4))"
   ]
  },
  {
   "cell_type": "code",
   "execution_count": 18,
   "metadata": {},
   "outputs": [
    {
     "name": "stdout",
     "output_type": "stream",
     "text": [
      "30\n"
     ]
    }
   ],
   "source": [
    "x= lambda a,b: a*b\n",
    "print(x(5,6))"
   ]
  },
  {
   "cell_type": "code",
   "execution_count": 20,
   "metadata": {},
   "outputs": [
    {
     "name": "stdout",
     "output_type": "stream",
     "text": [
      "18\n"
     ]
    }
   ],
   "source": [
    "x=lambda a,b,c:a+b+c\n",
    "print(x(5,6,7))"
   ]
  },
  {
   "cell_type": "code",
   "execution_count": 21,
   "metadata": {},
   "outputs": [
    {
     "name": "stdout",
     "output_type": "stream",
     "text": [
      "33\n"
     ]
    }
   ],
   "source": [
    "x=lambda a,b: 3*a+3*b\n",
    "print(x(5,6))"
   ]
  },
  {
   "cell_type": "code",
   "execution_count": 23,
   "metadata": {},
   "outputs": [
    {
     "name": "stdout",
     "output_type": "stream",
     "text": [
      "1331\n"
     ]
    }
   ],
   "source": [
    "x=lambda a,b:(a+b)**3\n",
    "print(x(5,6))"
   ]
  },
  {
   "cell_type": "markdown",
   "metadata": {},
   "source": [
    "### Filter\n",
    "#### The filter() function returns iterator were the items are filtered through a function to test if the item is accepted or not\n",
    "##### Syntax - filter(function, iterable)"
   ]
  },
  {
   "cell_type": "code",
   "execution_count": 3,
   "metadata": {},
   "outputs": [
    {
     "name": "stdout",
     "output_type": "stream",
     "text": [
      "<filter object at 0x00000174A3C716D8>\n",
      "[5, 6]\n"
     ]
    }
   ],
   "source": [
    "def numb(a):\n",
    "    if a>=5:\n",
    "        return a\n",
    "x=filter(numb,[2,3,4,5,6])\n",
    "print(x)\n",
    "print(list(x))"
   ]
  },
  {
   "cell_type": "markdown",
   "metadata": {},
   "source": [
    "### reduce\n",
    "#### The reduce() function is defined in the functools module. Like the map and filter functions, the reduce() function receives two arguments, a function and an iterable. However, it doesn't return another iterable, instead it returns a single value.\n",
    "##### Syntax - redunce(function, iterable)"
   ]
  },
  {
   "cell_type": "code",
   "execution_count": 1,
   "metadata": {},
   "outputs": [
    {
     "name": "stdout",
     "output_type": "stream",
     "text": [
      "x= 1  y= 2\n",
      "x= 2  y= 3\n",
      "Factorial of 3:  6\n"
     ]
    }
   ],
   "source": [
    "import functools\n",
    "def mult(x,y):\n",
    "    print(\"x=\",x,\" y=\",y)\n",
    "    return x*y\n",
    "\n",
    "fact=functools.reduce(mult, range(1, 4))\n",
    "print ('Factorial of 3: ', fact)"
   ]
  },
  {
   "cell_type": "markdown",
   "metadata": {},
   "source": [
    "# Classes/Object\n",
    "## A class is a user-defined blueprint or prototype from which objects are created. Classes provide a means of bundling data and functionality together. Creating a new class creates a new type of object, allowing new instances of that type to be made. Each class instance can have attributes attached to it for maintaining its state. Class instances can also have methods (defined by its class) for modifying its state.\n",
    "\n",
    "## Class creates a user-defined data structure, which holds its own data members and member functions, which can be accessed and used by creating an instance of that class. A class is like a blueprint for an object.\n",
    "\n",
    "#### Some points\n",
    "\n",
    "#### Classes are created by keyword class.\n",
    "#### Attributes are the variables that belong to class.\n",
    "#### Attributes are always public and can be accessed using dot (.) operator. Eg.: Myclass.Myattribute\n",
    "\n",
    "##### Class Definition Syntax:\n",
    "\n",
    " class ClassName:\n",
    "    # Statement-1\n",
    "    .\n",
    "    .\n",
    "    .\n",
    "    # Statement-N"
   ]
  },
  {
   "cell_type": "code",
   "execution_count": 4,
   "metadata": {},
   "outputs": [],
   "source": [
    "# Defining a class\n",
    "class pen:\n",
    "    pass\n",
    "#In the above example, class keyword indicates that you are creating a class followed by the name of the class (Pen in this case)."
   ]
  },
  {
   "cell_type": "markdown",
   "metadata": {},
   "source": [
    "# Class Objects\n",
    "#### An Object is an instance of a Class. A class is like a blueprint while an instance is a copy of the class with actual values. It’s not an idea anymore, it’s an actual dog, like a dog of breed pug who’s seven years old. You can have many dogs to create many different instances, but without the class as a guide, you would be lost, not knowing what information is required.\n",
    "\n",
    "#### An object consists of :\n",
    "\n",
    "#### State : It is represented by attributes of an object. It also reflects the properties of an object.\n",
    "#### Behavior : It is represented by methods of an object. It also reflects the response of an object with other objects.\n",
    "#### Identity : It gives a unique name to an object and enables one object to interact with other objects.\n"
   ]
  },
  {
   "cell_type": "markdown",
   "metadata": {},
   "source": [
    "# Declaring Objects (Also called instantiating a class)\n",
    "#### When an object of a class is created, the class is said to be instantiated. All the instances share the attributes and the behavior of the class. But the values of those attributes, i.e. the state are unique for each object. A single class may have any number of instances."
   ]
  },
  {
   "cell_type": "code",
   "execution_count": 5,
   "metadata": {},
   "outputs": [
    {
     "name": "stdout",
     "output_type": "stream",
     "text": [
      "mamal\n",
      "I'm a mamal\n",
      "I'm a dog\n"
     ]
    }
   ],
   "source": [
    "class Dog:  \n",
    "      \n",
    "    # A simple class \n",
    "    # attribute \n",
    "    attr1 = \"mamal\"\n",
    "    attr2 = \"dog\"\n",
    "  \n",
    "    # A sample method   \n",
    "    def fun(self):  \n",
    "        print(\"I'm a\", self.attr1) \n",
    "        print(\"I'm a\", self.attr2) \n",
    "  \n",
    "# Driver code \n",
    "# Object instantiation \n",
    "Rodger = Dog() \n",
    "  \n",
    "# Accessing class attributes \n",
    "# and method through objects \n",
    "print(Rodger.attr1) \n",
    "Rodger.fun() "
   ]
  },
  {
   "cell_type": "markdown",
   "metadata": {},
   "source": [
    "# The self\n",
    "#### Class methods must have an extra first parameter in method definition. We do not give a value for this parameter when we call the method, Python provides it.\n",
    "#### If we have a method which takes no arguments, then we still have to have one argument.\n",
    "#### This is similar to this pointer in C++ and this reference in Java.\n",
    "#### When we call a method of this object as myobject.method(arg1, arg2), this is automatically converted by Python into MyClass.method(myobject, arg1, arg2) – this is all the special self is about.\n",
    "\n",
    "#### __init__ method\n",
    "#### The __init__ method is similar to constructors in C++ and Java. Constructors are used to initialize the object’s state. Like methods, a constructor also contains a collection of statements(i.e. instructions) that are executed at the time of Object creation. It is run as soon as an object of a class is instantiated. The method is useful to do any initialization you want to do with your object."
   ]
  },
  {
   "cell_type": "code",
   "execution_count": null,
   "metadata": {},
   "outputs": [],
   "source": [
    "# A Sample class with init method  \n",
    "class Person:  \n",
    "    \n",
    "    # init method or constructor   \n",
    "    def __init__(self, name):  \n",
    "        self.name = name  \n",
    "    \n",
    "    # Sample Method   \n",
    "    def say_hi(self):  \n",
    "        print('Hello, my name is', self.name)  \n",
    "    \n",
    "p = Person('Saumen')  \n",
    "p.say_hi() "
   ]
  },
  {
   "cell_type": "markdown",
   "metadata": {},
   "source": [
    "# Class and Instance Variables\n",
    "#### Instance variables are for data unique to each instance and class variables are for attributes and methods shared by all instances of the class. Instance variables are variables whose value is assigned inside a constructor or method with self whereas class variables are variables whose value is assigned in the class."
   ]
  },
  {
   "cell_type": "code",
   "execution_count": 8,
   "metadata": {},
   "outputs": [
    {
     "name": "stdout",
     "output_type": "stream",
     "text": [
      "Rodger details:\n",
      "Rodger is a dog\n",
      "Breed:  Pug\n",
      "Color:  brown\n",
      "\n",
      "Buzo details:\n",
      "Buzo is a dog\n",
      "Breed:  Bulldog\n",
      "Color:  black\n",
      "\n",
      "Accessing class variable using class name\n",
      "dog\n"
     ]
    }
   ],
   "source": [
    "class Dog:  \n",
    "    \n",
    "    # Class Variable  \n",
    "    animal = 'dog'             \n",
    "    \n",
    "    # The init method or constructor  \n",
    "    def __init__(self, breed, color):  \n",
    "      \n",
    "        # Instance Variable      \n",
    "        self.breed = breed \n",
    "        self.color = color         \n",
    "     \n",
    "# Objects of Dog class  \n",
    "Rodger = Dog(\"Pug\", \"brown\")  \n",
    "Buzo = Dog(\"Bulldog\", \"black\")  \n",
    "  \n",
    "print('Rodger details:')    \n",
    "print('Rodger is a', Rodger.animal)  \n",
    "print('Breed: ', Rodger.breed) \n",
    "print('Color: ', Rodger.color) \n",
    "  \n",
    "print('\\nBuzo details:')    \n",
    "print('Buzo is a', Buzo.animal)  \n",
    "print('Breed: ', Buzo.breed) \n",
    "print('Color: ', Buzo.color) \n",
    "  \n",
    "# Class variables can be accessed using class  \n",
    "# name also  \n",
    "print(\"\\nAccessing class variable using class name\") \n",
    "print(Dog.animal)"
   ]
  },
  {
   "cell_type": "code",
   "execution_count": 9,
   "metadata": {},
   "outputs": [
    {
     "name": "stdout",
     "output_type": "stream",
     "text": [
      "brown\n"
     ]
    }
   ],
   "source": [
    "# Defining instance variable using the normal method.\n",
    "class Dog:  \n",
    "        \n",
    "    # Class Variable  \n",
    "    animal = 'dog'      \n",
    "        \n",
    "    # The init method or constructor  \n",
    "    def __init__(self, breed):  \n",
    "            \n",
    "        # Instance Variable  \n",
    "        self.breed = breed              \n",
    "    \n",
    "    # Adds an instance variable   \n",
    "    def setColor(self, color):  \n",
    "        self.color = color  \n",
    "        \n",
    "    # Retrieves instance variable      \n",
    "    def getColor(self):      \n",
    "        return self.color     \n",
    "    \n",
    "# Driver Code  \n",
    "Rodger = Dog(\"pug\")  \n",
    "Rodger.setColor(\"brown\")  \n",
    "print(Rodger.getColor())   "
   ]
  },
  {
   "cell_type": "code",
   "execution_count": null,
   "metadata": {},
   "outputs": [],
   "source": []
  }
 ],
 "metadata": {
  "kernelspec": {
   "display_name": "Python 3",
   "language": "python",
   "name": "python3"
  },
  "language_info": {
   "codemirror_mode": {
    "name": "ipython",
    "version": 3
   },
   "file_extension": ".py",
   "mimetype": "text/x-python",
   "name": "python",
   "nbconvert_exporter": "python",
   "pygments_lexer": "ipython3",
   "version": "3.6.10"
  }
 },
 "nbformat": 4,
 "nbformat_minor": 4
}

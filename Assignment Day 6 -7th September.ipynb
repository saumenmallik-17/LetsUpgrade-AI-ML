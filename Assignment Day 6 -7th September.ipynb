{
 "cells": [
  {
   "cell_type": "code",
   "execution_count": 23,
   "metadata": {},
   "outputs": [
    {
     "name": "stdout",
     "output_type": "stream",
     "text": [
      "Enter valid email ID john@google.com\n",
      "Company Name:  google\n"
     ]
    }
   ],
   "source": [
    "#Program to get Company Name by email id\n",
    "email=input(str('Enter valid email ID '))\n",
    "\n",
    "if(email.find('@')>0):\n",
    "    comp=email[email.find('@')+1::]\n",
    "    print('Company Name: ',comp.split(\".\")[0])\n",
    "    \n",
    "else:\n",
    "    print('This is not valid email ID')"
   ]
  },
  {
   "cell_type": "code",
   "execution_count": 40,
   "metadata": {},
   "outputs": [
    {
     "name": "stdout",
     "output_type": "stream",
     "text": [
      "Input your words with comma seperated to sort..\n",
      "i,love,python,language\n",
      "i,language,love,python\n"
     ]
    }
   ],
   "source": [
    "#sorting comma seperated sequence of words\n",
    "rawdata=input(str('Input your words with comma seperated to sort..\\n'))\n",
    "sorted_data=sorted(rawdata.split(','))\n",
    "print(','.join(sorted_data))"
   ]
  },
  {
   "cell_type": "code",
   "execution_count": 99,
   "metadata": {},
   "outputs": [
    {
     "name": "stdout",
     "output_type": "stream",
     "text": [
      "Enter numbers separated by space 1 2 4 3 6 7 8\n",
      "Missing Number/s 5\n"
     ]
    }
   ],
   "source": [
    "# Find missing number\n",
    "input_string = input(\"Enter numbers separated by space \")\n",
    "data=sorted(input_string.split())\n",
    "j=[]\n",
    "i=0\n",
    "for num in data:\n",
    "    #print(num)\n",
    "    i=int(num)\n",
    "    j.append(i)\n",
    "    j.sort()\n",
    "    \n",
    "k=sorted(set(range(j[0],j[-1]+1)).difference(j))\n",
    "result=str(k)[1:-1]\n",
    "print('Missing Number/s',result)\n"
   ]
  },
  {
   "cell_type": "code",
   "execution_count": 162,
   "metadata": {},
   "outputs": [
    {
     "name": "stdout",
     "output_type": "stream",
     "text": [
      "Enter numbers separated by space 12 24 35 24\n",
      "12  24  35\n"
     ]
    }
   ],
   "source": [
    "# Remove duplicates values with orginal order reserved\n",
    "input_string = input(\"Enter numbers separated by space \")\n",
    "data=sorted(input_string.split())\n",
    "j=[]\n",
    "i=0\n",
    "for num in data:\n",
    "    i=int(num)\n",
    "    j.append(i)\n",
    "    j.sort()\n",
    "result=str(sorted(set(j)))[1:-1]\n",
    "print(result.replace(\",\",\" \"))"
   ]
  },
  {
   "cell_type": "code",
   "execution_count": null,
   "metadata": {},
   "outputs": [],
   "source": []
  }
 ],
 "metadata": {
  "kernelspec": {
   "display_name": "Python 3",
   "language": "python",
   "name": "python3"
  },
  "language_info": {
   "codemirror_mode": {
    "name": "ipython",
    "version": 3
   },
   "file_extension": ".py",
   "mimetype": "text/x-python",
   "name": "python",
   "nbconvert_exporter": "python",
   "pygments_lexer": "ipython3",
   "version": "3.8.5"
  }
 },
 "nbformat": 4,
 "nbformat_minor": 4
}

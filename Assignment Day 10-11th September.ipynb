{
 "cells": [
  {
   "cell_type": "code",
   "execution_count": 10,
   "metadata": {},
   "outputs": [
    {
     "name": "stdout",
     "output_type": "stream",
     "text": [
      "[False  True]\n",
      "[False  True]\n",
      "[ True False]\n",
      "[ True False]\n"
     ]
    }
   ],
   "source": [
    "#Create an element-wise comparison (greater, greater_equal, less and less_equal) of two given arrays\n",
    "import numpy as np\n",
    "a=np.array([7,8])\n",
    "b=np.array([8,6])\n",
    "print(np.greater_equal(a,b))\n",
    "print(np.greater(a,b))\n",
    "print(np.less_equal(a,b))\n",
    "print(np.less(a,b))"
   ]
  },
  {
   "cell_type": "code",
   "execution_count": 15,
   "metadata": {},
   "outputs": [
    {
     "name": "stdout",
     "output_type": "stream",
     "text": [
      "[0. 0. 0. 0. 0. 0. 0. 0. 0. 0.]\n",
      "[1. 1. 1. 1. 1. 1. 1. 1. 1. 1.]\n",
      "[5. 5. 5. 5. 5. 5. 5. 5. 5. 5.]\n"
     ]
    }
   ],
   "source": [
    "#Write a NumPy program to create an array of 10 zeros,10 ones, 10 fives\n",
    "import numpy as np\n",
    "a=np.zeros(10)\n",
    "print(a)\n",
    "a=np.ones(10)\n",
    "print(a)\n",
    "a=np.ones(10)*5\n",
    "print(a)"
   ]
  },
  {
   "cell_type": "code",
   "execution_count": 26,
   "metadata": {},
   "outputs": [
    {
     "name": "stdout",
     "output_type": "stream",
     "text": [
      "[[1 8]\n",
      " [7 6]]\n",
      "22\n",
      "[ 8 14]\n",
      "[ 9 13]\n"
     ]
    }
   ],
   "source": [
    "#Write a NumPy program to compute sum of all elements, sum of each column and sum of each row of a given array\n",
    "import numpy as np\n",
    "a=np.array([[1,8],[7,6]])\n",
    "print(a)\n",
    "print(np.sum(a))\n",
    "print(np.sum(a,axis=0))\n",
    "print(np.sum(a,axis=1))\n"
   ]
  },
  {
   "cell_type": "code",
   "execution_count": 36,
   "metadata": {},
   "outputs": [
    {
     "name": "stdout",
     "output_type": "stream",
     "text": [
      "17\n",
      "12\n",
      "45\n",
      "5.0\n"
     ]
    }
   ],
   "source": [
    "#Write a NumPy program to add, subtract, multiply, divide arguments element-wise\n",
    "import numpy as np\n",
    "print(np.add(8,9))\n",
    "print(np.subtract(15,3))\n",
    "print(np.multiply(15,3))\n",
    "print(np.divide(15,3))\n"
   ]
  },
  {
   "cell_type": "code",
   "execution_count": 37,
   "metadata": {},
   "outputs": [
    {
     "name": "stdout",
     "output_type": "stream",
     "text": [
      "sin: array of angles given in degrees\n",
      "[0.         0.5        0.70710678 0.8660254  1.        ]\n",
      "cos: array of angles given in degrees\n",
      "[1.00000000e+00 8.66025404e-01 7.07106781e-01 5.00000000e-01\n",
      " 6.12323400e-17]\n",
      "tan: array of angles given in degrees\n",
      "[0.00000000e+00 5.77350269e-01 1.00000000e+00 1.73205081e+00\n",
      " 1.63312394e+16]\n"
     ]
    }
   ],
   "source": [
    "#Write a NumPy program to compute the trigonometric sine, cosine and tangent array of angles given in degree.\n",
    "import numpy as np\n",
    "print(\"sin: array of angles given in degrees\")\n",
    "print(np.sin(np.array((0., 30., 45., 60., 90.)) * np.pi / 180.))\n",
    "print(\"cos: array of angles given in degrees\")\n",
    "print(np.cos(np.array((0., 30., 45., 60., 90.)) * np.pi / 180.))\n",
    "print(\"tan: array of angles given in degrees\")\n",
    "print(np.tan(np.array((0., 30., 45., 60., 90.)) * np.pi / 180.))"
   ]
  },
  {
   "cell_type": "code",
   "execution_count": 50,
   "metadata": {},
   "outputs": [
    {
     "name": "stdout",
     "output_type": "stream",
     "text": [
      "   Id  S.No\n",
      "a   1   111\n",
      "b   2   112\n",
      "c   3   113\n"
     ]
    }
   ],
   "source": [
    "#Write a Pandas program to create and display a DataFrame from a specified dictionary data which has the index label\n",
    "\n",
    "import pandas as pd\n",
    "dict_sr={'Id':([1,2,3]),'S.No':[111,112,113]}\n",
    "label=['a','b','c']\n",
    "df5=pd.DataFrame(dict_sr,index=label)\n",
    "print(df5)"
   ]
  },
  {
   "cell_type": "code",
   "execution_count": 79,
   "metadata": {},
   "outputs": [
    {
     "name": "stdout",
     "output_type": "stream",
     "text": [
      "   Id  S.No\n",
      "0   1   111\n",
      "1   2   112\n",
      "2   3   113\n",
      "0   4   114\n",
      "1   5   115\n",
      "2   6   116\n"
     ]
    }
   ],
   "source": [
    "#Write a Pandas program to join the two given dataframes along rows and assign all data\n",
    "import pandas as pd\n",
    "dict_sr=pd.DataFrame({'Id':([1,2,3]),'S.No':[111,112,113]})\n",
    "dict_sr1=pd.DataFrame({'Id':([4,5,6]),'S.No':[114,115,116]})\n",
    "\n",
    "df6=pd.concat([dict_sr,dict_sr1])\n",
    "print(df6)"
   ]
  },
  {
   "cell_type": "code",
   "execution_count": 80,
   "metadata": {},
   "outputs": [
    {
     "name": "stdout",
     "output_type": "stream",
     "text": [
      "      Id   S.No\n",
      "0  False  False\n",
      "1  False  False\n",
      "2  False   True\n",
      "0  False  False\n",
      "1  False  False\n",
      "2  False  False\n"
     ]
    }
   ],
   "source": [
    "#Write a Pandas program to detect missing values of a given DataFrame. Display True or False.\n",
    "import pandas as pd\n",
    "dict_sr=pd.DataFrame({'Id':([1,2,3]),'S.No':[111,112,np.nan]})\n",
    "dict_sr1=pd.DataFrame({'Id':([4,5,6]),'S.No':[114,115,116]})\n",
    "\n",
    "df6=pd.concat([dict_sr,dict_sr1])\n",
    "\n",
    "print(df6.isna())"
   ]
  },
  {
   "cell_type": "code",
   "execution_count": 77,
   "metadata": {},
   "outputs": [
    {
     "name": "stdout",
     "output_type": "stream",
     "text": [
      "0    4\n",
      "1    5\n",
      "2    6\n",
      "dtype: int64\n"
     ]
    }
   ],
   "source": [
    "#Write a Pandas program to create and display a one-dimensional array-like object containing an array of data\n",
    "import pandas as pd\n",
    "ds = pd.Series([4,5,6])\n",
    "print(ds)"
   ]
  }
 ],
 "metadata": {
  "kernelspec": {
   "display_name": "Python 3",
   "language": "python",
   "name": "python3"
  },
  "language_info": {
   "codemirror_mode": {
    "name": "ipython",
    "version": 3
   },
   "file_extension": ".py",
   "mimetype": "text/x-python",
   "name": "python",
   "nbconvert_exporter": "python",
   "pygments_lexer": "ipython3",
   "version": "3.8.5"
  }
 },
 "nbformat": 4,
 "nbformat_minor": 4
}

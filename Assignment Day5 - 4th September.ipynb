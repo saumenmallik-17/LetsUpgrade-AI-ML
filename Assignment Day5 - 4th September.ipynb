{
 "cells": [
  {
   "cell_type": "code",
   "execution_count": 15,
   "metadata": {},
   "outputs": [
    {
     "name": "stdout",
     "output_type": "stream",
     "text": [
      "3\n",
      "5\n",
      "7\n",
      "9\n",
      "11\n",
      "13\n",
      "15\n",
      "17\n",
      "19\n"
     ]
    }
   ],
   "source": [
    "# First 20 non-even prime natural number\n",
    "a=range(0,21)\n",
    "for i in a:\n",
    "    if(i>1):\n",
    "        if(i%2!=0):\n",
    "            print(i)"
   ]
  },
  {
   "cell_type": "code",
   "execution_count": 38,
   "metadata": {},
   "outputs": [
    {
     "name": "stdout",
     "output_type": "stream",
     "text": [
      "This is al ml class\n",
      "THIS IS AL ML CLASS\n",
      "this is al ml class\n",
      "8\n",
      "THIS is AL ML class\n",
      "['this', 'is', 'AL', 'ML', 'class']\n",
      "True\n",
      "this is AL ML class It is a wonderful class\n",
      "1\n",
      "2020\n",
      "True\n",
      "False\n",
      "False\n",
      "                                        this is AL ML class                                         \n",
      "False\n"
     ]
    }
   ],
   "source": [
    "#15 Functions of a string\n",
    "str='this is AL ML class'\n",
    "\n",
    "#1.Convert in the first character Upper String\n",
    "print(str.capitalize())\n",
    "\n",
    "#2.Convert all in capital\n",
    "print(str.upper())\n",
    "\n",
    "#3.convert all in lower\n",
    "print(str.lower())\n",
    "\n",
    "#4.Find particular in string\n",
    "print(str.find('AL'))\n",
    "\n",
    "#5.Replace particular in string\n",
    "print(str.replace('this','THIS'))\n",
    "\n",
    "#6.Split the string\n",
    "print(str.split(' '))#split with space\n",
    "\n",
    "#7.Check certain phrase in string\n",
    "chk='AL ML' in str\n",
    "print(chk)\n",
    "\n",
    "#8.Concenation of string\n",
    "str2=' It is a wonderful class'\n",
    "print(str+str2)\n",
    "\n",
    "#9.Count a string\n",
    "print(str.count('AL'))\n",
    "\n",
    "#10.Convert a string to number\n",
    "x='2020'\n",
    "print(int(x))\n",
    "\n",
    "#11.Check if all character in text are numeric\n",
    "x='2020'\n",
    "print(x.isnumeric())\n",
    "\n",
    "#12.Check if all character in text are in upper case\n",
    "print(str.isupper())\n",
    "\n",
    "#13.Check if all character in text are in upper case\n",
    "print(str.islower())\n",
    "\n",
    "#14.Return Centre string\n",
    "print(str.center(100))\n",
    "\n",
    "#15.Check all characters in string are letter\n",
    "print(str.isalpha()) #space & special characters are not letter"
   ]
  },
  {
   "cell_type": "code",
   "execution_count": 3,
   "metadata": {},
   "outputs": [
    {
     "name": "stdout",
     "output_type": "stream",
     "text": [
      "Enter the first string hello\n",
      "Enter the second string hillo\n",
      "Given strings neither Palindrome nor Anagram\n"
     ]
    }
   ],
   "source": [
    "#Check the given string is Palindrome,Anagram or None of them\n",
    "word1=input('Enter the first string ')\n",
    "word2=input('Enter the second string ')\n",
    "rev_word=word1[::-1]\n",
    "if(word2==rev_word):\n",
    "    print('Given strings are Palindrome')\n",
    "elif (sorted(word1)==sorted(word2)):\n",
    "    print('Given strings are Anagram')\n",
    "else:\n",
    "    print('Given strings neither Palindrome nor Anagram')"
   ]
  },
  {
   "cell_type": "code",
   "execution_count": 18,
   "metadata": {},
   "outputs": [
    {
     "name": "stdout",
     "output_type": "stream",
     "text": [
      "Enter your word with special character Dr. Darshan Ingle @AIML Trainer\n",
      "drdarshaningleaimltrainer\n"
     ]
    }
   ],
   "source": [
    "#Function to remove additional Character from a string and convert it in lower case\n",
    "\n",
    "def remove_spc_string():\n",
    "    string = input('Enter your word with special character ')\n",
    "    remove_character = \"!()@#$%^&*()_+= <>:;'\"\"'.\"\n",
    "    string2 = string\n",
    "    for character in remove_character:\n",
    "        string2 = string2.replace(character, \"\")\n",
    "    print(string2.lower())\n",
    "remove_spc_string()"
   ]
  }
 ],
 "metadata": {
  "kernelspec": {
   "display_name": "Python 3",
   "language": "python",
   "name": "python3"
  },
  "language_info": {
   "codemirror_mode": {
    "name": "ipython",
    "version": 3
   },
   "file_extension": ".py",
   "mimetype": "text/x-python",
   "name": "python",
   "nbconvert_exporter": "python",
   "pygments_lexer": "ipython3",
   "version": "3.8.5"
  }
 },
 "nbformat": 4,
 "nbformat_minor": 4
}

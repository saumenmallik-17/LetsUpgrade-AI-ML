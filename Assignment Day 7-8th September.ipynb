{
 "cells": [
  {
   "cell_type": "code",
   "execution_count": 8,
   "metadata": {},
   "outputs": [],
   "source": [
    "#program to copy the contents of one file to another using a for loop\n",
    "with open(\"C:\\\\Users\\\\saumen.mallik\\\\Desktop\\\\test.txt\") as t:\n",
    "    with open(\"C:\\\\Users\\\\saumen.mallik\\\\Desktop\\\\out.txt\", \"w\") as t1:\n",
    "        for line in t:\n",
    "            t1.write(line)"
   ]
  },
  {
   "cell_type": "code",
   "execution_count": 15,
   "metadata": {},
   "outputs": [
    {
     "name": "stdout",
     "output_type": "stream",
     "text": [
      "Minimum Value 3500  Maximum Value 10000\n"
     ]
    }
   ],
   "source": [
    "#Python program to find maximum and minimum values in the dictionary\n",
    "s={'x':7000,'y':3500,'z':10000}\n",
    "s1=list(sorted(salary.values()))\n",
    "print('Minimum Value',s1[0],' Maximum Value',s1[-1])"
   ]
  }
 ],
 "metadata": {
  "kernelspec": {
   "display_name": "Python 3",
   "language": "python",
   "name": "python3"
  },
  "language_info": {
   "codemirror_mode": {
    "name": "ipython",
    "version": 3
   },
   "file_extension": ".py",
   "mimetype": "text/x-python",
   "name": "python",
   "nbconvert_exporter": "python",
   "pygments_lexer": "ipython3",
   "version": "3.8.5"
  }
 },
 "nbformat": 4,
 "nbformat_minor": 4
}

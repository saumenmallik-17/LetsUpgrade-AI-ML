{
 "cells": [
  {
   "cell_type": "code",
   "execution_count": 3,
   "metadata": {},
   "outputs": [
    {
     "name": "stdout",
     "output_type": "stream",
     "text": [
      "(2+4j)\n"
     ]
    }
   ],
   "source": [
    "#Subtract of Complex Number\n",
    "a=17+21j\n",
    "b=15+17j\n",
    "print(a-b)"
   ]
  },
  {
   "cell_type": "code",
   "execution_count": 8,
   "metadata": {},
   "outputs": [
    {
     "name": "stdout",
     "output_type": "stream",
     "text": [
      "2401\n"
     ]
    }
   ],
   "source": [
    "#Fourth root of a number\n",
    "a=7**4\n",
    "print(a)"
   ]
  },
  {
   "cell_type": "code",
   "execution_count": 21,
   "metadata": {},
   "outputs": [
    {
     "name": "stdout",
     "output_type": "stream",
     "text": [
      "Value of variable a= 13 Value of variable b= 18\n",
      "Swap value of variable a= 18 Swap value of variable b= 13\n"
     ]
    }
   ],
   "source": [
    "#Swap two number with help of temporary variable\n",
    "a=13\n",
    "b=18\n",
    "print('Value of variable a=',a,'Value of variable b=',b)\n",
    "tmp=a #temporary variable\n",
    "a=b\n",
    "b=tmp\n",
    "print('Swap value of variable a=',a,'Swap value of variable b=',b)"
   ]
  },
  {
   "cell_type": "code",
   "execution_count": 38,
   "metadata": {},
   "outputs": [
    {
     "name": "stdout",
     "output_type": "stream",
     "text": [
      "Value of variable a= 13 Value of variable b= 18\n",
      "Swap value of variable a= 18 Swap value of variable b= 13\n"
     ]
    }
   ],
   "source": [
    "#Swap two number without help of temporary variable\n",
    "a=13\n",
    "b=18\n",
    "print('Value of variable a=',a,'Value of variable b=',b)\n",
    "a=a+b\n",
    "b=a-b\n",
    "a=a-b\n",
    "print('Swap value of variable a=',a,'Swap value of variable b=',b)"
   ]
  },
  {
   "cell_type": "code",
   "execution_count": 26,
   "metadata": {},
   "outputs": [
    {
     "name": "stdout",
     "output_type": "stream",
     "text": [
      "Fahrenheit Temperature - 108  converting to Celcius 42.22222222222222 & Kelvin 315.3722222222222\n"
     ]
    }
   ],
   "source": [
    "#Convert Fahrenheit to kelvis and celsius both\n",
    "fah_temp=108\n",
    "celcius=(fah_temp-32)*5/9\n",
    "kelvin=(fah_temp-32)*5/9+273.15\n",
    "print('Fahrenheit Temperature -',fah_temp,' converting to Celcius',celcius, '& Kelvin',kelvin)"
   ]
  },
  {
   "cell_type": "code",
   "execution_count": 36,
   "metadata": {},
   "outputs": [
    {
     "name": "stdout",
     "output_type": "stream",
     "text": [
      "<class 'str'>\n",
      "<class 'float'>\n",
      "<class 'int'>\n",
      "<class 'complex'>\n",
      "<class 'dict'>\n",
      "<class 'list'>\n",
      "<class 'tuple'>\n",
      "<class 'set'>\n"
     ]
    }
   ],
   "source": [
    "a='saumen'\n",
    "b=23.2\n",
    "c=14\n",
    "d=5j\n",
    "e={'ID':43,'Name':'Saumen','Salary':1000}\n",
    "f=[5,6,8,23.3,'s']\n",
    "g=(5,6,8,23.3,'s')\n",
    "h={5,6,8,23.3,'s'}\n",
    "print(type(a))\n",
    "print(type(b))\n",
    "print(type(c))\n",
    "print(type(d))\n",
    "print(type(e))\n",
    "print(type(f))\n",
    "print(type(g))\n",
    "print(type(h))"
   ]
  }
 ],
 "metadata": {
  "kernelspec": {
   "display_name": "Python 3",
   "language": "python",
   "name": "python3"
  },
  "language_info": {
   "codemirror_mode": {
    "name": "ipython",
    "version": 3
   },
   "file_extension": ".py",
   "mimetype": "text/x-python",
   "name": "python",
   "nbconvert_exporter": "python",
   "pygments_lexer": "ipython3",
   "version": "3.8.5"
  }
 },
 "nbformat": 4,
 "nbformat_minor": 4
}
